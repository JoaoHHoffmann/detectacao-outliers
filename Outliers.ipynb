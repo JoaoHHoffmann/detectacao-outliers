{
  "nbformat": 4,
  "nbformat_minor": 0,
  "metadata": {
    "colab": {
      "provenance": [],
      "authorship_tag": "ABX9TyMZOyd3xQayvxlM+xUXhgwC",
      "include_colab_link": true
    },
    "kernelspec": {
      "name": "python3",
      "display_name": "Python 3"
    },
    "language_info": {
      "name": "python"
    }
  },
  "cells": [
    {
      "cell_type": "markdown",
      "metadata": {
        "id": "view-in-github",
        "colab_type": "text"
      },
      "source": [
        "<a href=\"https://colab.research.google.com/github/JoaoHHoffmann/detectacao-outliers/blob/main/Outliers.ipynb\" target=\"_parent\"><img src=\"https://colab.research.google.com/assets/colab-badge.svg\" alt=\"Open In Colab\"/></a>"
      ]
    },
    {
      "cell_type": "code",
      "execution_count": null,
      "metadata": {
        "id": "x2-IbVSsRBjh"
      },
      "outputs": [],
      "source": [
        "import pandas as pd\n",
        "import numpy as np"
      ]
    },
    {
      "cell_type": "code",
      "source": [
        "df = pd.read_csv('/content/pokedex.csv')\n"
      ],
      "metadata": {
        "id": "_IaBJPYnSaeZ"
      },
      "execution_count": null,
      "outputs": []
    },
    {
      "cell_type": "code",
      "source": [
        "df.head(5)"
      ],
      "metadata": {
        "id": "qBQkgp-1S2wx"
      },
      "execution_count": null,
      "outputs": []
    },
    {
      "cell_type": "code",
      "source": [
        "total = df['Total']\n",
        "hp = df['HP']\n",
        "attack = df['Attack']\n",
        "defense = df['Defense']\n"
      ],
      "metadata": {
        "id": "dG0N0OzYUS-c"
      },
      "execution_count": null,
      "outputs": []
    },
    {
      "cell_type": "code",
      "source": [
        "q1, q3 = np.percentile(total, [25, 75])\n",
        "iqr = q3 - q1\n",
        "\n",
        "limite_inferior = q1 - 1.5 * iqr\n",
        "limite_superior = q3 + 1.5 * iqr\n",
        "outliers = [x for x in total if x < limite_inferior or x > limite_superior]\n",
        "print(len(outliers))"
      ],
      "metadata": {
        "colab": {
          "base_uri": "https://localhost:8080/"
        },
        "id": "m7LeevObTiBD",
        "outputId": "756a1e27-5b6f-4865-b2ea-aa3998050ec5"
      },
      "execution_count": null,
      "outputs": [
        {
          "output_type": "stream",
          "name": "stdout",
          "text": [
            "1\n"
          ]
        }
      ]
    },
    {
      "cell_type": "code",
      "source": [
        "q1, q3 = np.percentile(hp, [25, 75])\n",
        "iqr = q3 - q1\n",
        "\n",
        "limite_inferior = q1 - 1.5 * iqr\n",
        "limite_superior = q3 + 1.5 * iqr\n",
        "outliers = [x for x in hp if x < limite_inferior or x > limite_superior]\n",
        "print(len(outliers))"
      ],
      "metadata": {
        "colab": {
          "base_uri": "https://localhost:8080/"
        },
        "id": "ZBgp7dyNV2HY",
        "outputId": "8f016fe0-d188-4e52-acf6-856a0ee301d2"
      },
      "execution_count": null,
      "outputs": [
        {
          "output_type": "stream",
          "name": "stdout",
          "text": [
            "27\n"
          ]
        }
      ]
    },
    {
      "cell_type": "code",
      "source": [
        "q1, q3 = np.percentile(attack, [25, 75])\n",
        "iqr = q3 - q1\n",
        "\n",
        "limite_inferior = q1 - 1.5 * iqr\n",
        "limite_superior = q3 + 1.5 * iqr\n",
        "outliers = [x for x in attack if x < limite_inferior or x > limite_superior]\n",
        "print(len(outliers))"
      ],
      "metadata": {
        "colab": {
          "base_uri": "https://localhost:8080/"
        },
        "id": "GEc_TzkGWK65",
        "outputId": "63215625-390d-47e0-e060-12cbdfa111a8"
      },
      "execution_count": null,
      "outputs": [
        {
          "output_type": "stream",
          "name": "stdout",
          "text": [
            "13\n"
          ]
        }
      ]
    },
    {
      "cell_type": "code",
      "source": [
        "df_sem_outliers = df[(attack >= limite_inferior) & (attack <= limite_superior)]\n",
        "\n",
        "# Salvar o novo CSV sem outliers\n",
        "df_sem_outliers.to_csv(\"dados_sem_outliers.csv\", index=False)\n",
        "\n",
        "print(\"Outliers removidos e novo CSV salvo!\")"
      ],
      "metadata": {
        "colab": {
          "base_uri": "https://localhost:8080/"
        },
        "id": "x3WMRtfxa4Jy",
        "outputId": "059b7e1b-95ab-46e5-e976-8b5a6cda6890"
      },
      "execution_count": null,
      "outputs": [
        {
          "output_type": "stream",
          "name": "stdout",
          "text": [
            "Outliers removidos e novo CSV salvo!\n"
          ]
        }
      ]
    },
    {
      "cell_type": "code",
      "source": [
        "pd.read_csv('/content/dados_sem_outliers.csv')\n",
        "print(df_sem_outliers['Attack'].describe())"
      ],
      "metadata": {
        "colab": {
          "base_uri": "https://localhost:8080/"
        },
        "id": "klRU47KxbIad",
        "outputId": "958275a0-0b75-4cb7-8b79-74c839b4fd89"
      },
      "execution_count": null,
      "outputs": [
        {
          "output_type": "stream",
          "name": "stdout",
          "text": [
            "count    1202.000000\n",
            "mean       80.147255\n",
            "std        30.695721\n",
            "min         5.000000\n",
            "25%        56.000000\n",
            "50%        79.000000\n",
            "75%       100.000000\n",
            "max       164.000000\n",
            "Name: Attack, dtype: float64\n"
          ]
        }
      ]
    },
    {
      "cell_type": "code",
      "source": [
        "q1, q3 = np.percentile(defense, [25, 75])\n",
        "iqr = q3 - q1\n",
        "\n",
        "limite_inferior = q1 - 1.5 * iqr\n",
        "limite_superior = q3 + 1.5 * iqr\n",
        "outliers = [x for x in defense if x < limite_inferior or x > limite_superior]\n",
        "print(len(outliers))"
      ],
      "metadata": {
        "colab": {
          "base_uri": "https://localhost:8080/"
        },
        "id": "cSISXzQdWLGg",
        "outputId": "ad105655-ec4e-4220-e3c7-2fb32f22c5f5"
      },
      "execution_count": null,
      "outputs": [
        {
          "output_type": "stream",
          "name": "stdout",
          "text": [
            "25\n"
          ]
        }
      ]
    }
  ]
}